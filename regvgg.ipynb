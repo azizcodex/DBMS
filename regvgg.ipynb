{
  "nbformat": 4,
  "nbformat_minor": 0,
  "metadata": {
    "colab": {
      "name": "regvgg.ipynb",
      "provenance": [],
      "mount_file_id": "1uLf3q4gdZgrHQcPIipGZQJYvSkgs8PFc",
      "authorship_tag": "ABX9TyMVZU3N1mvUNhYkk+96tkbm",
      "include_colab_link": true
    },
    "kernelspec": {
      "name": "python3",
      "display_name": "Python 3"
    },
    "accelerator": "GPU"
  },
  "cells": [
    {
      "cell_type": "markdown",
      "metadata": {
        "id": "view-in-github",
        "colab_type": "text"
      },
      "source": [
        "<a href=\"https://colab.research.google.com/github/azizcodex/DBMS/blob/master/regvgg.ipynb\" target=\"_parent\"><img src=\"https://colab.research.google.com/assets/colab-badge.svg\" alt=\"Open In Colab\"/></a>"
      ]
    },
    {
      "cell_type": "code",
      "metadata": {
        "id": "cRWsIagZXlyr"
      },
      "source": [
        "import tensorflow as tf\n",
        "from tensorflow import keras\n",
        "import itertools\n",
        "from keras.layers import Input, Lambda, Dense, Flatten\n",
        "from keras.models import Model\n",
        "from keras.applications.vgg16 import VGG16\n",
        "from keras.applications.resnet50 import ResNet50\n",
        "from keras.applications.resnet50 import preprocess_input\n",
        "from keras.applications.vgg16 import preprocess_input\n",
        "from glob import glob\n",
        "import numpy as np\n",
        "from keras.callbacks import EarlyStopping\n",
        "import matplotlib.pyplot as plt\n",
        "\n",
        "from sklearn import svm, datasets\n",
        "from sklearn.model_selection import train_test_split\n",
        "from sklearn.metrics import confusion_matrix\n",
        "import matplotlib.pyplot as plt\n",
        "import numpy as np\n",
        "import sklearn.metrics as metrics"
      ],
      "execution_count": null,
      "outputs": []
    },
    {
      "cell_type": "code",
      "metadata": {
        "id": "rYAl9uQAY33i"
      },
      "source": [
        "IMAGE_SIZE = [224, 224]\n",
        "train_path = \"/content/drive/MyDrive/datasetth/train\"\n",
        "test_path  = \"/content/drive/MyDrive/datasetth/test\""
      ],
      "execution_count": null,
      "outputs": []
    },
    {
      "cell_type": "code",
      "metadata": {
        "colab": {
          "base_uri": "https://localhost:8080/"
        },
        "id": "2PZtxB1-Y-ys",
        "outputId": "adf5b031-452f-495b-fa69-5cefbd331abc"
      },
      "source": [
        "from keras.preprocessing.image import ImageDataGenerator\n",
        "\n",
        "train_batches= ImageDataGenerator(preprocessing_function=keras.applications.vgg16.preprocess_input).flow_from_directory(train_path,target_size=(224,224),\n",
        "                                                                                                                          batch_size=25)\n",
        "test_batches= ImageDataGenerator(preprocessing_function=keras.applications.vgg16.preprocess_input).flow_from_directory(test_path,target_size=(224,224),\n",
        "                                                                                                                          batch_size=25, shuffle = False)"
      ],
      "execution_count": null,
      "outputs": [
        {
          "output_type": "stream",
          "text": [
            "Found 9478 images belonging to 2 classes.\n",
            "Found 2367 images belonging to 2 classes.\n"
          ],
          "name": "stdout"
        }
      ]
    },
    {
      "cell_type": "code",
      "metadata": {
        "id": "YQ68sh3JY9a3",
        "colab": {
          "base_uri": "https://localhost:8080/"
        },
        "outputId": "e2cf75b0-7b8e-4156-d0f6-e7e9f7762cd4"
      },
      "source": [
        "resnet = VGG16(input_shape=IMAGE_SIZE + [3], weights='imagenet', include_top=False)"
      ],
      "execution_count": null,
      "outputs": [
        {
          "output_type": "stream",
          "text": [
            "Downloading data from https://storage.googleapis.com/tensorflow/keras-applications/vgg16/vgg16_weights_tf_dim_ordering_tf_kernels_notop.h5\n",
            "58892288/58889256 [==============================] - 0s 0us/step\n"
          ],
          "name": "stdout"
        }
      ]
    },
    {
      "cell_type": "code",
      "metadata": {
        "id": "QFdWzVv6Y-6s"
      },
      "source": [
        "for layer in resnet.layers:\n",
        "    layer.trainable = False\n",
        "folders = glob(\"/content/drive/My Drive/datasetth/train/*\")\n",
        "x = Flatten()(resnet.output)\n",
        "prediction = Dense(len(folders), activation='softmax')(x)\n",
        "\n",
        "model = Model(inputs=resnet.input, outputs=prediction)"
      ],
      "execution_count": null,
      "outputs": []
    },
    {
      "cell_type": "code",
      "metadata": {
        "id": "e17augpaZFSv"
      },
      "source": [
        "model.compile(\n",
        "    loss='categorical_crossentropy',\n",
        "    optimizer=\"Adam\",\n",
        "    metrics=['accuracy']\n",
        ")"
      ],
      "execution_count": null,
      "outputs": []
    },
    {
      "cell_type": "code",
      "metadata": {
        "id": "tGsy6pvgZFNd"
      },
      "source": [
        "es = EarlyStopping(monitor='accuracy', min_delta=1e-3, patience=8,\n",
        "                   verbose=1, mode='auto', baseline=None,\n",
        "                   restore_best_weights=True)"
      ],
      "execution_count": null,
      "outputs": []
    },
    {
      "cell_type": "code",
      "metadata": {
        "colab": {
          "base_uri": "https://localhost:8080/"
        },
        "id": "2753SGxxZFLB",
        "outputId": "d9e76b13-76fa-475b-a916-2af249bfcfdf"
      },
      "source": [
        "model.fit(train_batches, steps_per_epoch=4,\n",
        "         \n",
        "          validation_steps = 2, \n",
        "          epochs = 120,\n",
        "          verbose =2,\n",
        "         callbacks = es \n",
        "          )  "
      ],
      "execution_count": null,
      "outputs": [
        {
          "output_type": "stream",
          "text": [
            "Epoch 1/120\n",
            "4/4 - 20s - loss: 9.7717 - accuracy: 0.6400\n",
            "Epoch 2/120\n",
            "4/4 - 25s - loss: 3.4402 - accuracy: 0.8500\n",
            "Epoch 3/120\n",
            "4/4 - 24s - loss: 5.2492 - accuracy: 0.6800\n",
            "Epoch 4/120\n",
            "4/4 - 22s - loss: 4.0611 - accuracy: 0.7900\n",
            "Epoch 5/120\n",
            "4/4 - 23s - loss: 4.4036 - accuracy: 0.8700\n",
            "Epoch 6/120\n",
            "4/4 - 24s - loss: 3.8431 - accuracy: 0.8800\n",
            "Epoch 7/120\n",
            "4/4 - 25s - loss: 1.7860 - accuracy: 0.9100\n",
            "Epoch 8/120\n",
            "4/4 - 21s - loss: 2.7685 - accuracy: 0.8500\n",
            "Epoch 9/120\n",
            "4/4 - 23s - loss: 1.8376 - accuracy: 0.8800\n",
            "Epoch 10/120\n",
            "4/4 - 22s - loss: 2.3869 - accuracy: 0.9100\n",
            "Epoch 11/120\n",
            "4/4 - 24s - loss: 3.1993 - accuracy: 0.8500\n",
            "Epoch 12/120\n",
            "4/4 - 21s - loss: 1.7793 - accuracy: 0.9200\n",
            "Epoch 13/120\n",
            "4/4 - 25s - loss: 2.8078 - accuracy: 0.8700\n",
            "Epoch 14/120\n",
            "4/4 - 20s - loss: 2.2649 - accuracy: 0.8600\n",
            "Epoch 15/120\n",
            "4/4 - 21s - loss: 2.4790 - accuracy: 0.8600\n",
            "Epoch 16/120\n",
            "4/4 - 21s - loss: 1.8406 - accuracy: 0.9000\n",
            "Epoch 17/120\n",
            "4/4 - 20s - loss: 2.1914 - accuracy: 0.9300\n",
            "Epoch 18/120\n",
            "4/4 - 24s - loss: 1.6196 - accuracy: 0.8900\n",
            "Epoch 19/120\n",
            "4/4 - 22s - loss: 2.0646 - accuracy: 0.8700\n",
            "Epoch 20/120\n",
            "4/4 - 21s - loss: 2.1606 - accuracy: 0.9300\n",
            "Epoch 21/120\n",
            "4/4 - 18s - loss: 0.8365 - accuracy: 0.9500\n",
            "Epoch 22/120\n",
            "4/4 - 20s - loss: 1.8964 - accuracy: 0.9100\n",
            "Epoch 23/120\n",
            "4/4 - 20s - loss: 2.2507 - accuracy: 0.8600\n",
            "Epoch 24/120\n",
            "4/4 - 21s - loss: 3.0843 - accuracy: 0.8800\n",
            "Epoch 25/120\n",
            "4/4 - 19s - loss: 1.7064 - accuracy: 0.9000\n",
            "Epoch 26/120\n",
            "4/4 - 16s - loss: 2.7992 - accuracy: 0.8700\n",
            "Epoch 27/120\n",
            "4/4 - 22s - loss: 1.9797 - accuracy: 0.8800\n",
            "Epoch 28/120\n",
            "4/4 - 15s - loss: 1.4317 - accuracy: 0.9200\n",
            "Epoch 29/120\n",
            "Restoring model weights from the end of the best epoch.\n",
            "4/4 - 14s - loss: 1.8393 - accuracy: 0.9100\n",
            "Epoch 00029: early stopping\n"
          ],
          "name": "stdout"
        },
        {
          "output_type": "execute_result",
          "data": {
            "text/plain": [
              "<tensorflow.python.keras.callbacks.History at 0x7fef59f532e8>"
            ]
          },
          "metadata": {
            "tags": []
          },
          "execution_count": 8
        }
      ]
    },
    {
      "cell_type": "code",
      "metadata": {
        "colab": {
          "base_uri": "https://localhost:8080/"
        },
        "id": "Bp838M90Y-tr",
        "outputId": "02689f91-fe2f-4c75-fb15-b1bcc5c117dd"
      },
      "source": [
        "test_lables = test_batches.classes\n",
        "prediction = model.predict(x=test_batches, verbose=1)"
      ],
      "execution_count": null,
      "outputs": [
        {
          "output_type": "stream",
          "text": [
            "95/95 [==============================] - 736s 8s/step\n"
          ],
          "name": "stdout"
        }
      ]
    },
    {
      "cell_type": "code",
      "metadata": {
        "colab": {
          "base_uri": "https://localhost:8080/"
        },
        "id": "xcJfIDq-Y-qo",
        "outputId": "0d8a222c-6b22-487d-b930-aa44e25a5109"
      },
      "source": [
        "predc = model.predict(test_batches, verbose=1)\n",
        "confmat= confusion_matrix(y_true=test_lables, y_pred=predc.argmax(axis=1))\n",
        "\n",
        "nr= confmat.shape[0]\n",
        "nc= confmat.shape[1]"
      ],
      "execution_count": null,
      "outputs": [
        {
          "output_type": "stream",
          "text": [
            " 2/95 [..............................] - ETA: 4sWARNING:tensorflow:Callbacks method `on_predict_batch_end` is slow compared to the batch time (batch time: 0.0235s vs `on_predict_batch_end` time: 0.0994s). Check your callbacks.\n",
            "95/95 [==============================] - 11s 118ms/step\n"
          ],
          "name": "stdout"
        }
      ]
    },
    {
      "cell_type": "code",
      "metadata": {
        "id": "EJNgsvgx-4Y5"
      },
      "source": [
        "cm = confusion_matrix(y_true=test_lables,\n",
        "                      y_pred=prediction.argmax(axis=1))"
      ],
      "execution_count": null,
      "outputs": []
    },
    {
      "cell_type": "code",
      "metadata": {
        "id": "yAm05SKRY-k8"
      },
      "source": [
        "def plot_confusion_matrix(cm, classes,\n",
        "                          normalize=False,\n",
        "                          title='Confusion Matrix',\n",
        "                          cmap=plt.cm.Blues):\n",
        "    \"\"\"\n",
        "    This function prints and plots the confusion matrix.\n",
        "    Normalization can be applied by setting `normalize=True`.\n",
        "    \"\"\"\n",
        "    plt.imshow(cm, interpolation='nearest', cmap=cmap)\n",
        "    plt.title(title)\n",
        "    plt.colorbar()\n",
        "    tick_marks = np.arange(len(classes))\n",
        "    plt.xticks(tick_marks, classes, rotation=45)\n",
        "    plt.yticks(tick_marks, classes)\n",
        "\n",
        "    if normalize:\n",
        "        cm = cm.astype('float') / cm.sum(axis=1)[:, np.newaxis]\n",
        "        print(\"Normalized confusion matrix\")\n",
        "    else:\n",
        "        print('Confusion matrix, without normalization')\n",
        "\n",
        "    print(cm)\n",
        "\n",
        "    thresh = cm.max() / 2.\n",
        "    for i, j in itertools.product(range(cm.shape[0]), range(cm.shape[1])):\n",
        "        plt.text(j, i, cm[i, j],\n",
        "                 horizontalalignment=\"center\",\n",
        "                 color=\"white\" if cm[i, j] > thresh else \"black\")\n",
        "\n",
        "    plt.tight_layout()\n",
        "    plt.ylabel('True label')\n",
        "    plt.xlabel('Predicted label')\n",
        "    plt.savefig('/content/drive/MyDrive/datatwentypercent/regvgg.png')"
      ],
      "execution_count": null,
      "outputs": []
    },
    {
      "cell_type": "code",
      "metadata": {
        "colab": {
          "base_uri": "https://localhost:8080/",
          "height": 362
        },
        "id": "KA36JcPZY-Yh",
        "outputId": "a72d9273-e714-44b8-e555-d9b95fcc6ce8"
      },
      "source": [
        "cm_plt_lables =['men', 'women']\n",
        "plot_confusion_matrix(cm= cm, classes=cm_plt_lables)"
      ],
      "execution_count": null,
      "outputs": [
        {
          "output_type": "stream",
          "text": [
            "Confusion matrix, without normalization\n",
            "[[1727  136]\n",
            " [ 150  354]]\n"
          ],
          "name": "stdout"
        },
        {
          "output_type": "display_data",
          "data": {
            "image/png": "[encoded data removed]",
            "text/plain": [
              "<Figure size 432x288 with 2 Axes>"
            ]
          },
          "metadata": {
            "tags": [],
            "needs_background": "light"
          }
        }
      ]
    },
    {
      "cell_type": "code",
      "metadata": {
        "id": "BHdl_zZSk-db",
        "colab": {
          "base_uri": "https://localhost:8080/"
        },
        "outputId": "d2ca888c-705f-43cf-aa2d-14319c24b405"
      },
      "source": [
        "from sklearn.metrics import classification_report\n",
        "print(classification_report(test_lables, prediction.argmax(axis=1)))"
      ],
      "execution_count": null,
      "outputs": [
        {
          "output_type": "stream",
          "text": [
            "              precision    recall  f1-score   support\n",
            "\n",
            "           0       0.92      0.93      0.92      1863\n",
            "           1       0.72      0.70      0.71       504\n",
            "\n",
            "    accuracy                           0.88      2367\n",
            "   macro avg       0.82      0.81      0.82      2367\n",
            "weighted avg       0.88      0.88      0.88      2367\n",
            "\n"
          ],
          "name": "stdout"
        }
      ]
    }
  ]
}